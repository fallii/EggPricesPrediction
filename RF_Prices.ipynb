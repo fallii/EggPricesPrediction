{
  "cells": [
    {
      "cell_type": "code",
      "execution_count": 1,
      "metadata": {
        "id": "s_w6n8dVIiz1"
      },
      "outputs": [],
      "source": [
        "import pandas as pd\n",
        "from sklearn.ensemble import RandomForestRegressor # Model Training\n",
        "from sklearn.model_selection import train_test_split # Splitting Data\n",
        "from sklearn.metrics import mean_squared_error #Model Evaluation\n",
        "import pickle"
      ]
    },
    {
      "cell_type": "code",
      "execution_count": 2,
      "metadata": {
        "colab": {
          "base_uri": "https://localhost:8080/"
        },
        "id": "JAbCMYiqI0NQ",
        "outputId": "4acb5ec1-f77a-493d-c447-62e3d25f1b21"
      },
      "outputs": [
        {
          "name": "stdout",
          "output_type": "stream",
          "text": [
            "   No.    Lokasi       Komoditas  Tahun  Januari  Februari  Maret  April  \\\n",
            "0    1  Nasional  Telur Ayam Ras   2014    20457     21038  19063  18365   \n",
            "1    2  Nasional  Telur Ayam Ras   2015    22814     22266  20675  19943   \n",
            "2    3  Nasional  Telur Ayam Ras   2016    25537     24505  23290  22448   \n",
            "3    4  Nasional  Telur Ayam Ras   2017    23584     22530  21940  22743   \n",
            "4    5  Nasional  Telur Ayam Ras   2018    25649     24739  24489  23857   \n",
            "5    6  Nasional  Telur Ayam Ras   2019    26239     25061  24158  24403   \n",
            "6    7  Nasional  Telur Ayam Ras   2020    25370     25292  25813  26495   \n",
            "7    8  Nasional  Telur Ayam Ras   2021    26417     25772  25191  25708   \n",
            "8    9  Nasional  Telur Ayam Ras   2022    28287     24546  25342  26409   \n",
            "9   10  Nasional  Telur Ayam Ras   2023    30570     29361  29445  30194   \n",
            "\n",
            "     Mei   Juni   Juli  Agustus  September  Oktober  November  Desember  \n",
            "0  19017  20513  21056    20743      20450    20000     19789     20684  \n",
            "1  21274  22710  22598    22634      22632    21957     22052     23955  \n",
            "2  23026  24473  24280    24049      23469    22920     22396     23488  \n",
            "3  24193  23886  24370    23958      23085    22801     22915     25186  \n",
            "4  24932  25363  26733    27438      24728    23950     24031     26053  \n",
            "5  24341  24932  24654    24757      24533    23994     24117     25346  \n",
            "6  25048  26036  26720    26239      25087    24749     25667     27892  \n",
            "7  25811  26041  25717    25536      24042    23473     24892     26818  \n",
            "8  27788  29252  29247    30230      30332    28412     28916     31096  \n",
            "9  31127  31909  32124    31772      30326    29420     29281     29317  \n"
          ]
        }
      ],
      "source": [
        "data = pd.read_csv('data_harga_telur.csv')\n",
        "print(data)"
      ]
    },
    {
      "cell_type": "code",
      "execution_count": 3,
      "metadata": {
        "colab": {
          "base_uri": "https://localhost:8080/"
        },
        "id": "8tpjhoNeI6aF",
        "outputId": "ed00509d-4597-41a9-df39-de5de5fde927"
      },
      "outputs": [
        {
          "name": "stdout",
          "output_type": "stream",
          "text": [
            "     Tahun     Bulan  Harga\n",
            "0     2014   Januari  20457\n",
            "1     2015   Januari  22814\n",
            "2     2016   Januari  25537\n",
            "3     2017   Januari  23584\n",
            "4     2018   Januari  25649\n",
            "..     ...       ...    ...\n",
            "115   2019  Desember  25346\n",
            "116   2020  Desember  27892\n",
            "117   2021  Desember  26818\n",
            "118   2022  Desember  31096\n",
            "119   2023  Desember  29317\n",
            "\n",
            "[120 rows x 3 columns]\n"
          ]
        }
      ],
      "source": [
        "id_vars = ['Tahun']  # Columns to keep as identifiers\n",
        "value_vars = ['Januari','Februari','Maret', 'April', 'Mei','Juni','Juli','Agustus',\n",
        "        'September','Oktober','November','Desember']  # Columns to melt\n",
        "melted_data = data.melt(id_vars=id_vars, value_vars=value_vars, var_name='Bulan', value_name='Harga')\n",
        "print(melted_data)"
      ]
    },
    {
      "cell_type": "code",
      "execution_count": 4,
      "metadata": {
        "id": "z4gSvqOoJCPV"
      },
      "outputs": [],
      "source": [
        "month_mapping = {\n",
        "    'Januari': 1, 'Februari': 2, 'Maret': 3, 'April': 4, 'Mei': 5, 'Juni': 6,\n",
        "    'Juli': 7, 'Agustus': 8, 'September': 9, 'Oktober': 10, 'November': 11, 'Desember': 12\n",
        "}"
      ]
    },
    {
      "cell_type": "code",
      "execution_count": 5,
      "metadata": {
        "id": "cCCABdNSJN8q"
      },
      "outputs": [],
      "source": [
        "melted_data['Bulan'] = melted_data['Bulan'].map(month_mapping)"
      ]
    },
    {
      "cell_type": "code",
      "execution_count": 6,
      "metadata": {
        "colab": {
          "base_uri": "https://localhost:8080/"
        },
        "id": "Q1OxlJcZJRJJ",
        "outputId": "00a717c4-23eb-421e-c9fc-7a11e5796127"
      },
      "outputs": [
        {
          "name": "stdout",
          "output_type": "stream",
          "text": [
            "     Tahun  Bulan  Harga\n",
            "0     2014      1  20457\n",
            "1     2015      1  22814\n",
            "2     2016      1  25537\n",
            "3     2017      1  23584\n",
            "4     2018      1  25649\n",
            "..     ...    ...    ...\n",
            "115   2019     12  25346\n",
            "116   2020     12  27892\n",
            "117   2021     12  26818\n",
            "118   2022     12  31096\n",
            "119   2023     12  29317\n",
            "\n",
            "[120 rows x 3 columns]\n"
          ]
        }
      ],
      "source": [
        "print(melted_data)"
      ]
    },
    {
      "cell_type": "code",
      "execution_count": 7,
      "metadata": {
        "id": "5tdaZy1FJZ6v"
      },
      "outputs": [],
      "source": [
        "X = melted_data[['Tahun', 'Bulan']]\n",
        "y = melted_data['Harga']"
      ]
    },
    {
      "cell_type": "code",
      "execution_count": 8,
      "metadata": {
        "id": "Mr4vR7c4-Icb"
      },
      "outputs": [],
      "source": [
        "X_train, X_test, y_train, y_test = train_test_split(X, y, test_size=0.2, random_state=42)"
      ]
    },
    {
      "cell_type": "code",
      "execution_count": 9,
      "metadata": {
        "colab": {
          "base_uri": "https://localhost:8080/",
          "height": 74
        },
        "id": "Wl6d-ujyJcAk",
        "outputId": "b97d8550-a198-4e88-8128-97ad13204f97"
      },
      "outputs": [
        {
          "data": {
            "text/html": [
              "<style>#sk-container-id-1 {color: black;}#sk-container-id-1 pre{padding: 0;}#sk-container-id-1 div.sk-toggleable {background-color: white;}#sk-container-id-1 label.sk-toggleable__label {cursor: pointer;display: block;width: 100%;margin-bottom: 0;padding: 0.3em;box-sizing: border-box;text-align: center;}#sk-container-id-1 label.sk-toggleable__label-arrow:before {content: \"▸\";float: left;margin-right: 0.25em;color: #696969;}#sk-container-id-1 label.sk-toggleable__label-arrow:hover:before {color: black;}#sk-container-id-1 div.sk-estimator:hover label.sk-toggleable__label-arrow:before {color: black;}#sk-container-id-1 div.sk-toggleable__content {max-height: 0;max-width: 0;overflow: hidden;text-align: left;background-color: #f0f8ff;}#sk-container-id-1 div.sk-toggleable__content pre {margin: 0.2em;color: black;border-radius: 0.25em;background-color: #f0f8ff;}#sk-container-id-1 input.sk-toggleable__control:checked~div.sk-toggleable__content {max-height: 200px;max-width: 100%;overflow: auto;}#sk-container-id-1 input.sk-toggleable__control:checked~label.sk-toggleable__label-arrow:before {content: \"▾\";}#sk-container-id-1 div.sk-estimator input.sk-toggleable__control:checked~label.sk-toggleable__label {background-color: #d4ebff;}#sk-container-id-1 div.sk-label input.sk-toggleable__control:checked~label.sk-toggleable__label {background-color: #d4ebff;}#sk-container-id-1 input.sk-hidden--visually {border: 0;clip: rect(1px 1px 1px 1px);clip: rect(1px, 1px, 1px, 1px);height: 1px;margin: -1px;overflow: hidden;padding: 0;position: absolute;width: 1px;}#sk-container-id-1 div.sk-estimator {font-family: monospace;background-color: #f0f8ff;border: 1px dotted black;border-radius: 0.25em;box-sizing: border-box;margin-bottom: 0.5em;}#sk-container-id-1 div.sk-estimator:hover {background-color: #d4ebff;}#sk-container-id-1 div.sk-parallel-item::after {content: \"\";width: 100%;border-bottom: 1px solid gray;flex-grow: 1;}#sk-container-id-1 div.sk-label:hover label.sk-toggleable__label {background-color: #d4ebff;}#sk-container-id-1 div.sk-serial::before {content: \"\";position: absolute;border-left: 1px solid gray;box-sizing: border-box;top: 0;bottom: 0;left: 50%;z-index: 0;}#sk-container-id-1 div.sk-serial {display: flex;flex-direction: column;align-items: center;background-color: white;padding-right: 0.2em;padding-left: 0.2em;position: relative;}#sk-container-id-1 div.sk-item {position: relative;z-index: 1;}#sk-container-id-1 div.sk-parallel {display: flex;align-items: stretch;justify-content: center;background-color: white;position: relative;}#sk-container-id-1 div.sk-item::before, #sk-container-id-1 div.sk-parallel-item::before {content: \"\";position: absolute;border-left: 1px solid gray;box-sizing: border-box;top: 0;bottom: 0;left: 50%;z-index: -1;}#sk-container-id-1 div.sk-parallel-item {display: flex;flex-direction: column;z-index: 1;position: relative;background-color: white;}#sk-container-id-1 div.sk-parallel-item:first-child::after {align-self: flex-end;width: 50%;}#sk-container-id-1 div.sk-parallel-item:last-child::after {align-self: flex-start;width: 50%;}#sk-container-id-1 div.sk-parallel-item:only-child::after {width: 0;}#sk-container-id-1 div.sk-dashed-wrapped {border: 1px dashed gray;margin: 0 0.4em 0.5em 0.4em;box-sizing: border-box;padding-bottom: 0.4em;background-color: white;}#sk-container-id-1 div.sk-label label {font-family: monospace;font-weight: bold;display: inline-block;line-height: 1.2em;}#sk-container-id-1 div.sk-label-container {text-align: center;}#sk-container-id-1 div.sk-container {/* jupyter's `normalize.less` sets `[hidden] { display: none; }` but bootstrap.min.css set `[hidden] { display: none !important; }` so we also need the `!important` here to be able to override the default hidden behavior on the sphinx rendered scikit-learn.org. See: https://github.com/scikit-learn/scikit-learn/issues/21755 */display: inline-block !important;position: relative;}#sk-container-id-1 div.sk-text-repr-fallback {display: none;}</style><div id=\"sk-container-id-1\" class=\"sk-top-container\"><div class=\"sk-text-repr-fallback\"><pre>RandomForestRegressor(random_state=42)</pre><b>In a Jupyter environment, please rerun this cell to show the HTML representation or trust the notebook. <br />On GitHub, the HTML representation is unable to render, please try loading this page with nbviewer.org.</b></div><div class=\"sk-container\" hidden><div class=\"sk-item\"><div class=\"sk-estimator sk-toggleable\"><input class=\"sk-toggleable__control sk-hidden--visually\" id=\"sk-estimator-id-1\" type=\"checkbox\" checked><label for=\"sk-estimator-id-1\" class=\"sk-toggleable__label sk-toggleable__label-arrow\">RandomForestRegressor</label><div class=\"sk-toggleable__content\"><pre>RandomForestRegressor(random_state=42)</pre></div></div></div></div></div>"
            ],
            "text/plain": [
              "RandomForestRegressor(random_state=42)"
            ]
          },
          "execution_count": 9,
          "metadata": {},
          "output_type": "execute_result"
        }
      ],
      "source": [
        "#Model Training\n",
        "model = RandomForestRegressor(n_estimators=100, random_state=42)\n",
        "#train the model\n",
        "model.fit(X_train, y_train)"
      ]
    },
    {
      "cell_type": "code",
      "execution_count": 10,
      "metadata": {
        "id": "Z3zwB1W8JgmQ"
      },
      "outputs": [],
      "source": [
        "#make predictions on the test set\n",
        "y_pred = model.predict(X_test)"
      ]
    },
    {
      "cell_type": "code",
      "execution_count": 11,
      "metadata": {
        "colab": {
          "base_uri": "https://localhost:8080/"
        },
        "id": "34MEx_mr_4fc",
        "outputId": "3a36cf9b-2e74-4064-e474-6bc02981be9d"
      },
      "outputs": [
        {
          "name": "stdout",
          "output_type": "stream",
          "text": [
            "Mean Squared Error: 914982.2895166666\n"
          ]
        }
      ],
      "source": [
        "#Evaluate the model\n",
        "mse = mean_squared_error(y_test, y_pred)\n",
        "print(f\"Mean Squared Error: {mse}\")"
      ]
    },
    {
      "cell_type": "code",
      "execution_count": 12,
      "metadata": {
        "id": "NYnnrMVOAhgQ"
      },
      "outputs": [],
      "source": [
        "with open('rf_model.pkl', 'wb') as file:\n",
        "    pickle.dump(model, file)"
      ]
    }
  ],
  "metadata": {
    "colab": {
      "provenance": []
    },
    "kernelspec": {
      "display_name": "Python 3",
      "name": "python3"
    },
    "language_info": {
      "codemirror_mode": {
        "name": "ipython",
        "version": 3
      },
      "file_extension": ".py",
      "mimetype": "text/x-python",
      "name": "python",
      "nbconvert_exporter": "python",
      "pygments_lexer": "ipython3",
      "version": "3.11.5"
    }
  },
  "nbformat": 4,
  "nbformat_minor": 0
}
